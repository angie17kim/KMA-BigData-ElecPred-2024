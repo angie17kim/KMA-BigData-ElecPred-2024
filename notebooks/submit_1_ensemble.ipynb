{
 "cells": [
  {
   "cell_type": "code",
   "execution_count": 11,
   "metadata": {},
   "outputs": [],
   "source": [
    "from pathlib import Path\n",
    "import pandas as pd\n",
    "import numpy as np\n",
    "import yaml\n",
    "\n",
    "class Backup:\n",
    "    def __init__(self):\n",
    "        self.data_dict = {}\n",
    "\n",
    "    def save_with_key(self, data, key, copy=False):\n",
    "        if key in self.data_dict.keys():\n",
    "            print(f'Data Key \"f{key}\" already exists, Skip Saving')\n",
    "        else:\n",
    "            self.data_dict[key] = data.copy() if copy else data\n",
    "\n",
    "    def check_key(self, key):\n",
    "        return key in self.data_dict.keys()\n",
    "\n",
    "    def copy_data_with_key(self, key):\n",
    "        return self.data_dict[key].copy()\n",
    "    \n",
    "backup = Backup()\n",
    "\n",
    "with open('../configs/base.yaml', 'r', encoding='utf-8') as file:\n",
    "    base_config = yaml.safe_load(file)\n",
    "\n",
    "base_output_path = '/home/minchan/electric/output/xgboost'\n",
    "\n",
    "### Ensemble Path\n",
    "ensemble_list = [ # 'name', ver, date_dir, time_dir\n",
    "                ('ens1:', '0626_re', '24-6-28', '11-56-42'),\n",
    "                ('ens2:', '0627_re', '24-6-28', '11-38-19')\n",
    "]\n",
    "\n",
    "names = [name for name, _, _, _ in ensemble_list]\n",
    "### ### ### ### ##\n",
    "\n",
    "result_paths = {}\n",
    "for name, ver, date_dir, time_dir in ensemble_list:\n",
    "    result_paths[name] = Path(base_output_path+f'_{ver}', date_dir, time_dir)"
   ]
  },
  {
   "cell_type": "code",
   "execution_count": 12,
   "metadata": {},
   "outputs": [],
   "source": [
    "def npz_path_to_dict(npz_path):\n",
    "    npz = np.load(npz_path)\n",
    "    return {key: npz[key] for key in npz.files}\n",
    "\n",
    "total_answers = {}\n",
    "for name, result_path in result_paths.items():\n",
    "    test_answers_path = Path(result_path, 'test_answers.npz')\n",
    "    test_answers_dict = npz_path_to_dict(test_answers_path)\n",
    "    # give name prefix to keys\n",
    "    test_answers_dict = {name+key: value for key, value in test_answers_dict.items()}\n",
    "    total_answers.update(test_answers_dict)"
   ]
  },
  {
   "cell_type": "code",
   "execution_count": 13,
   "metadata": {},
   "outputs": [],
   "source": [
    "ensemble_weights = {\n",
    "    'ens1:val_year:2020': 0.0833333,\n",
    "    'ens1:val_year:2021': 0.0833333,\n",
    "    'ens1:val_year:2022': 0.0833333,\n",
    "    'ens1:total': 0.25,\n",
    "    'ens2:val_year:2020': 0.0833333,\n",
    "    'ens2:val_year:2021': 0.0833333,\n",
    "    'ens2:val_year:2022': 0.0833333,\n",
    "    'ens2:total': 0.25,\n",
    "}\n",
    "\n",
    "ensemble_weights2 = {\n",
    "    'ens1:total': 0.5,\n",
    "    'ens2:total': 0.5, \n",
    "}"
   ]
  },
  {
   "cell_type": "code",
   "execution_count": 14,
   "metadata": {},
   "outputs": [],
   "source": [
    "## --> full ensemble; submitted as 0627-1\n",
    "ensemble = np.zeros_like(list(total_answers.values())[0])\n",
    "for key, value in total_answers.items():\n",
    "    if key in ensemble_weights.keys():\n",
    "        ensemble += value * ensemble_weights[key]"
   ]
  },
  {
   "cell_type": "code",
   "execution_count": 15,
   "metadata": {},
   "outputs": [
    {
     "data": {
      "text/plain": [
       "array([ 98.594864,  87.22595 ,  79.83209 , ..., 127.43308 , 119.246704,\n",
       "       105.11684 ], dtype=float32)"
      ]
     },
     "execution_count": 15,
     "metadata": {},
     "output_type": "execute_result"
    }
   ],
   "source": [
    "ensemble"
   ]
  },
  {
   "cell_type": "code",
   "execution_count": 16,
   "metadata": {},
   "outputs": [],
   "source": [
    "final_answers = ensemble #ensemble # total_answers['ens1:val_year:2020']"
   ]
  },
  {
   "cell_type": "markdown",
   "metadata": {},
   "source": [
    "___"
   ]
  },
  {
   "cell_type": "markdown",
   "metadata": {},
   "source": [
    "### Final Submission"
   ]
  },
  {
   "cell_type": "code",
   "execution_count": 17,
   "metadata": {},
   "outputs": [],
   "source": [
    "reload = True\n",
    "\n",
    "if not backup.check_key('submit_format'):\n",
    "    submit_format = pd.read_csv(Path('/media/user/h/minchan/elec_data/assets', 'electric_test_raw.csv'))\n",
    "    backup.save_with_key(submit_format, 'submit_format')\n",
    "elif reload:\n",
    "    submit_format = backup.copy_data_with_key('submit_format')"
   ]
  },
  {
   "cell_type": "code",
   "execution_count": 18,
   "metadata": {},
   "outputs": [],
   "source": [
    "submit_format['elect'] = ensemble"
   ]
  },
  {
   "cell_type": "code",
   "execution_count": 19,
   "metadata": {},
   "outputs": [
    {
     "data": {
      "text/html": [
       "<div>\n",
       "<style scoped>\n",
       "    .dataframe tbody tr th:only-of-type {\n",
       "        vertical-align: middle;\n",
       "    }\n",
       "\n",
       "    .dataframe tbody tr th {\n",
       "        vertical-align: top;\n",
       "    }\n",
       "\n",
       "    .dataframe thead th {\n",
       "        text-align: right;\n",
       "    }\n",
       "</style>\n",
       "<table border=\"1\" class=\"dataframe\">\n",
       "  <thead>\n",
       "    <tr style=\"text-align: right;\">\n",
       "      <th></th>\n",
       "      <th>NUM</th>\n",
       "      <th>TM</th>\n",
       "      <th>HH24</th>\n",
       "      <th>STN</th>\n",
       "      <th>nph_ta</th>\n",
       "      <th>nph_hm</th>\n",
       "      <th>nph_ws_10m</th>\n",
       "      <th>nph_rn_60m</th>\n",
       "      <th>nph_ta_chi</th>\n",
       "      <th>weekday</th>\n",
       "      <th>week_name</th>\n",
       "      <th>elect</th>\n",
       "    </tr>\n",
       "  </thead>\n",
       "  <tbody>\n",
       "    <tr>\n",
       "      <th>0</th>\n",
       "      <td>4816</td>\n",
       "      <td>2023-01-01 01:00:00</td>\n",
       "      <td>1</td>\n",
       "      <td>752</td>\n",
       "      <td>3.0</td>\n",
       "      <td>68.6</td>\n",
       "      <td>2.9</td>\n",
       "      <td>0.0</td>\n",
       "      <td>-0.1</td>\n",
       "      <td>6</td>\n",
       "      <td>1.0</td>\n",
       "      <td>98.594864</td>\n",
       "    </tr>\n",
       "    <tr>\n",
       "      <th>1</th>\n",
       "      <td>4816</td>\n",
       "      <td>2023-01-01 02:00:00</td>\n",
       "      <td>2</td>\n",
       "      <td>752</td>\n",
       "      <td>3.1</td>\n",
       "      <td>69.4</td>\n",
       "      <td>2.7</td>\n",
       "      <td>0.0</td>\n",
       "      <td>0.3</td>\n",
       "      <td>6</td>\n",
       "      <td>1.0</td>\n",
       "      <td>87.225952</td>\n",
       "    </tr>\n",
       "    <tr>\n",
       "      <th>2</th>\n",
       "      <td>4816</td>\n",
       "      <td>2023-01-01 03:00:00</td>\n",
       "      <td>3</td>\n",
       "      <td>752</td>\n",
       "      <td>3.6</td>\n",
       "      <td>68.3</td>\n",
       "      <td>2.3</td>\n",
       "      <td>0.0</td>\n",
       "      <td>1.2</td>\n",
       "      <td>6</td>\n",
       "      <td>1.0</td>\n",
       "      <td>79.832092</td>\n",
       "    </tr>\n",
       "    <tr>\n",
       "      <th>3</th>\n",
       "      <td>4816</td>\n",
       "      <td>2023-01-01 04:00:00</td>\n",
       "      <td>4</td>\n",
       "      <td>752</td>\n",
       "      <td>4.0</td>\n",
       "      <td>69.2</td>\n",
       "      <td>3.1</td>\n",
       "      <td>0.0</td>\n",
       "      <td>1.1</td>\n",
       "      <td>6</td>\n",
       "      <td>1.0</td>\n",
       "      <td>76.121529</td>\n",
       "    </tr>\n",
       "    <tr>\n",
       "      <th>4</th>\n",
       "      <td>4816</td>\n",
       "      <td>2023-01-01 05:00:00</td>\n",
       "      <td>5</td>\n",
       "      <td>752</td>\n",
       "      <td>4.2</td>\n",
       "      <td>69.5</td>\n",
       "      <td>2.5</td>\n",
       "      <td>0.0</td>\n",
       "      <td>2.0</td>\n",
       "      <td>6</td>\n",
       "      <td>1.0</td>\n",
       "      <td>74.160797</td>\n",
       "    </tr>\n",
       "  </tbody>\n",
       "</table>\n",
       "</div>"
      ],
      "text/plain": [
       "    NUM                   TM  HH24  STN  nph_ta  nph_hm  nph_ws_10m  \\\n",
       "0  4816  2023-01-01 01:00:00     1  752     3.0    68.6         2.9   \n",
       "1  4816  2023-01-01 02:00:00     2  752     3.1    69.4         2.7   \n",
       "2  4816  2023-01-01 03:00:00     3  752     3.6    68.3         2.3   \n",
       "3  4816  2023-01-01 04:00:00     4  752     4.0    69.2         3.1   \n",
       "4  4816  2023-01-01 05:00:00     5  752     4.2    69.5         2.5   \n",
       "\n",
       "   nph_rn_60m  nph_ta_chi  weekday  week_name      elect  \n",
       "0         0.0        -0.1        6        1.0  98.594864  \n",
       "1         0.0         0.3        6        1.0  87.225952  \n",
       "2         0.0         1.2        6        1.0  79.832092  \n",
       "3         0.0         1.1        6        1.0  76.121529  \n",
       "4         0.0         2.0        6        1.0  74.160797  "
      ]
     },
     "execution_count": 19,
     "metadata": {},
     "output_type": "execute_result"
    }
   ],
   "source": [
    "submit_format.head()"
   ]
  },
  {
   "cell_type": "code",
   "execution_count": 20,
   "metadata": {},
   "outputs": [],
   "source": [
    "submit_format.to_csv(Path('./240228.csv'), index=False)"
   ]
  },
  {
   "cell_type": "code",
   "execution_count": null,
   "metadata": {},
   "outputs": [],
   "source": []
  }
 ],
 "metadata": {
  "kernelspec": {
   "display_name": "elec",
   "language": "python",
   "name": "python3"
  },
  "language_info": {
   "codemirror_mode": {
    "name": "ipython",
    "version": 3
   },
   "file_extension": ".py",
   "mimetype": "text/x-python",
   "name": "python",
   "nbconvert_exporter": "python",
   "pygments_lexer": "ipython3",
   "version": "3.12.4"
  }
 },
 "nbformat": 4,
 "nbformat_minor": 2
}
