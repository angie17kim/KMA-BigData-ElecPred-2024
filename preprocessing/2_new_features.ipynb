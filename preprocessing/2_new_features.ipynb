{
 "cells": [
  {
   "cell_type": "markdown",
   "metadata": {},
   "source": [
    "### 전처리 노트북 2/5: 변수 추가\n",
    "사용법: \n",
    "- 전처리 노트북 1을 실행 후 00_electric_train_polished.csv, 00_electric_test_polished.csv 를 asset_path에 저장 \n",
    "- https://data.kma.go.kr/community/board/selectBoardList.do?bbrdTypeNo=4&pgmNo=92 에서 최근 격자정보를 받은 후 asset_path/region/region_loc.csv 로 저장\n",
    "- 각 셀을 순서대로 실행\n",
    "\n",
    "결과물:\n",
    "- 01_electric_train_features.csv\n",
    "- 01_electric_test_features.csv"
   ]
  },
  {
   "cell_type": "code",
   "execution_count": 1,
   "metadata": {},
   "outputs": [],
   "source": [
    "# Standard library imports\n",
    "from pathlib import Path\n",
    "from datetime import datetime\n",
    "import json\n",
    "import pickle\n",
    "\n",
    "# Data handling and preprocessing\n",
    "import pandas as pd\n",
    "import numpy as np\n",
    "import pytz\n",
    "import requests\n",
    "from tqdm import tqdm\n",
    "\n",
    "# Visualization\n",
    "import matplotlib.pyplot as plt\n",
    "\n",
    "# Geospatial data handling\n",
    "import cartopy.crs as ccrs\n",
    "import cartopy.feature as cfeature\n",
    "import geopandas as gpd\n",
    "\n",
    "# Parallel processing\n",
    "from multiprocessing import Pool\n",
    "\n",
    "from matplotlib import cm\n",
    "from collections import defaultdict\n",
    "import numpy as np\n",
    "\n",
    "# Custom imports\n",
    "from pysolar.solar import get_altitude\n",
    "\n",
    "\n",
    "from preprocessing_utils import Backup, get_data_paths, get_figure_path\n",
    "asset_path, data_path = get_data_paths()\n",
    "figure_path = get_figure_path()\n",
    "\n",
    "train_polished_asset_path = Path(asset_path, '00_electric_train_polished.csv')\n",
    "test_polished_asset_path  = Path(asset_path, '00_electric_test_polished.csv')\n",
    "\n",
    "SAVE = False"
   ]
  },
  {
   "cell_type": "markdown",
   "metadata": {},
   "source": [
    "___"
   ]
  },
  {
   "cell_type": "markdown",
   "metadata": {},
   "source": [
    "#### 한번 Polishing 된 데이터를 다시 불러오는 부분! 그리고 datetime은 날짜 처리의 편의성을 위하여 문자열에서 Datetime object로 바꾸어준다."
   ]
  },
  {
   "cell_type": "code",
   "execution_count": 2,
   "metadata": {},
   "outputs": [],
   "source": [
    "train_data = pd.read_csv(train_polished_asset_path)\n",
    "test_data = pd.read_csv(test_polished_asset_path)\n",
    "\n",
    "train_data['datetime'] = pd.to_datetime(train_data['datetime'])\n",
    "test_data['datetime'] = pd.to_datetime(test_data['datetime'])"
   ]
  },
  {
   "cell_type": "code",
   "execution_count": 3,
   "metadata": {},
   "outputs": [],
   "source": [
    "train_data['date'] = train_data['datetime'].dt.date\n",
    "test_data['date'] = test_data['datetime'].dt.date"
   ]
  },
  {
   "cell_type": "markdown",
   "metadata": {},
   "source": [
    "____"
   ]
  },
  {
   "cell_type": "markdown",
   "metadata": {},
   "source": [
    "### 00. Train Data에 대해 avgload 변수 추가"
   ]
  },
  {
   "cell_type": "code",
   "execution_count": 4,
   "metadata": {},
   "outputs": [],
   "source": [
    "train_data['avg_load'] = train_data['sum_load'] / train_data['units']\n",
    "    # check whether the average_load is valid\n",
    "assert train_data['avg_load'].isna().sum() == 0\n",
    "assert train_data['avg_load'].isnull().sum() == 0\n",
    "# also assert positiveness\n",
    "assert (train_data['avg_load'] < 0).sum() == 0"
   ]
  },
  {
   "cell_type": "markdown",
   "metadata": {},
   "source": [
    "____"
   ]
  },
  {
   "cell_type": "markdown",
   "metadata": {},
   "source": [
    "### 01. 한국의 공휴일을 알려주는 변수 추가\n",
    "참고: https://velog.io/@qlgks1/python-%EB%82%A0%EC%A7%9C%EC%99%80-%EC%8B%9C%EA%B0%84-%EB%8B%A4%EB%A3%A8%EA%B8%B0-datetime-%EB%AA%A8%EB%93%88-%ED%95%B4%EB%B6%80-%EA%B7%B8%EB%A6%AC%EA%B3%A0-third-party"
   ]
  },
  {
   "cell_type": "code",
   "execution_count": 5,
   "metadata": {},
   "outputs": [],
   "source": [
    "def to_strdate(x):\n",
    "    x = str(x)\n",
    "    return '-'.join([x[:4], x[4:6], x[6:]])\n",
    "\n",
    "year_holiday_dict = {}\n",
    "\n",
    "for year in [2020, 2021, 2022, 2023]:\n",
    "    key = 'bom%2BTHr14TDIPGjfJl7mrv2YCDtzzrSC0CAm7yORlly1d%2FeJqPAeKib8%2FuJgWKg2qxru2UoNqQKJcLFL6aT2oQ%3D%3D'\n",
    "    url = 'http://apis.data.go.kr/B090041/openapi/service/SpcdeInfoService/getRestDeInfo?_type=json&numOfRows=50&solYear=' + str(year) + '&ServiceKey=' + str(key)\n",
    "    response = requests.get(url)\n",
    "    if response.status_code == 200:\n",
    "        json_ob = json.loads(response.text)\n",
    "        holidays_data = json_ob['response']['body']['items']['item']\n",
    "        dataframe = pd.json_normalize(holidays_data)\n",
    "\n",
    "    year_holiday_dict[year] = dataframe['locdate'].apply(to_strdate).values\n",
    "\n",
    "_holiday_list = []\n",
    "for year in year_holiday_dict:\n",
    "    _holiday_list.extend(year_holiday_dict[year])\n",
    "\n",
    "holiday_list = []\n",
    "for date in _holiday_list:\n",
    "    # to datetime.date\n",
    "    holiday_list.append(pd.to_datetime(date).date())\n",
    "\n",
    "for data in [train_data, test_data]:\n",
    "    data['holiday'] = 0\n",
    "    data.loc[data['date'].isin(holiday_list), 'holiday'] = 1"
   ]
  },
  {
   "cell_type": "markdown",
   "metadata": {},
   "source": [
    "____"
   ]
  },
  {
   "cell_type": "markdown",
   "metadata": {},
   "source": [
    "### 02. num을 통한 격자 번호 및 위경도 계산\n",
    "\n",
    "https://fronteer.kr/service/kmaxy"
   ]
  },
  {
   "cell_type": "code",
   "execution_count": 6,
   "metadata": {},
   "outputs": [],
   "source": [
    "# 파라미터 설정\n",
    "RE = 6371.00877  # 지구 반경(km)\n",
    "GRID = 5.0  # 격자 간격(km)\n",
    "SLAT1 = 30.0  # 투영 위도1(degree)\n",
    "SLAT2 = 60.0  # 투영 위도2(degree)\n",
    "OLON = 126.0  # 기준점 경도(degree)\n",
    "OLAT = 38.0  # 기준점 위도(degree)\n",
    "XO = 43  # 기준점 X좌표(GRID)\n",
    "YO = 136  # 기준점 Y좌표(GRID)\n",
    "\n",
    "DEGRAD = np.pi / 180.0\n",
    "RADDEG = 180.0 / np.pi\n",
    "\n",
    "re = RE / GRID\n",
    "slat1 = SLAT1 * DEGRAD\n",
    "slat2 = SLAT2 * DEGRAD\n",
    "olon = OLON * DEGRAD\n",
    "olat = OLAT * DEGRAD\n",
    "\n",
    "sn = np.tan(np.pi * 0.25 + slat2 * 0.5) / np.tan(np.pi * 0.25 + slat1 * 0.5)\n",
    "sn = np.log(np.cos(slat1) / np.cos(slat2)) / np.log(sn)\n",
    "sf = np.tan(np.pi * 0.25 + slat1 * 0.5)\n",
    "sf = (sf**sn) * np.cos(slat1) / sn\n",
    "ro = np.tan(np.pi * 0.25 + olat * 0.5)\n",
    "ro = re * sf / (ro**sn)\n",
    "\n",
    "def calculate_lon_lat_vectorized(x, y):\n",
    "    xn = x - XO\n",
    "    yn = ro - y + YO\n",
    "    ra = np.sqrt(xn**2 + yn**2)\n",
    "    ra = np.where(sn < 0, -ra, ra)\n",
    "    alat = (re * sf / ra)**(1.0 / sn)\n",
    "    alat = 2.0 * np.arctan(alat) - np.pi * 0.5\n",
    "\n",
    "    theta = np.arctan2(xn, yn)\n",
    "    alon = theta / sn + olon\n",
    "    lat = alat * RADDEG\n",
    "    lon = alon * RADDEG\n",
    "    \n",
    "    return lon, lat"
   ]
  },
  {
   "cell_type": "code",
   "execution_count": 7,
   "metadata": {},
   "outputs": [],
   "source": [
    "# 벡터화된 계산을 사용하여 lon, lat 열 추가\n",
    "for data in [train_data, test_data]:\n",
    "    NUM = data['num']\n",
    "    data['x'] = ((NUM - 1) % 149 + 1)  #/ 149\n",
    "    data['y'] = ((NUM - 1) // 149 + 1) #/ 253\n",
    "    data['lon'], data['lat'] = calculate_lon_lat_vectorized(data['x'].values, data['y'].values)"
   ]
  },
  {
   "cell_type": "markdown",
   "metadata": {},
   "source": [
    "___"
   ]
  },
  {
   "cell_type": "markdown",
   "metadata": {},
   "source": [
    "### 03. 태양의 남중고도 추가 (오래걸림)\n",
    "\n",
    "일출상태인지 일몰상태인지 결정할 수 있기 때문에 유용하다고 생각하였음.\n",
    "\n",
    "그러나 지속적으로 실험해 본 결과 실제 성능에 미치는 영향이 크지 않다고 판단함."
   ]
  },
  {
   "cell_type": "code",
   "execution_count": 8,
   "metadata": {},
   "outputs": [],
   "source": [
    "# 함수 정의\n",
    "def calculate_altitude(row):\n",
    "    return get_altitude(row['lat'], row['lon'], row['datetime_mid_tzKST'])\n",
    "\n",
    "# tqdm과 multiprocess를 사용한 함수\n",
    "def apply_with_progress(dataframe, func):\n",
    "    with Pool() as pool:\n",
    "        results = list(tqdm(pool.imap(func, [row for _, row in dataframe.iterrows()]), total=len(dataframe)))\n",
    "    return results\n"
   ]
  },
  {
   "cell_type": "code",
   "execution_count": 9,
   "metadata": {},
   "outputs": [
    {
     "name": "stdout",
     "output_type": "stream",
     "text": [
      "Calculating altitude for 7593360 rows\n"
     ]
    },
    {
     "name": "stderr",
     "output_type": "stream",
     "text": [
      "100%|██████████| 7593360/7593360 [10:05<00:00, 12540.79it/s]\n"
     ]
    },
    {
     "name": "stdout",
     "output_type": "stream",
     "text": [
      "Calculating altitude for 2829480 rows\n"
     ]
    },
    {
     "name": "stderr",
     "output_type": "stream",
     "text": [
      "100%|██████████| 2829480/2829480 [03:38<00:00, 12940.58it/s]\n"
     ]
    }
   ],
   "source": [
    "# get_altitude를 multiprocess로 적용\n",
    "KST = pytz.timezone('Asia/Seoul')\n",
    "\n",
    "for data in [train_data, test_data]:\n",
    "    print('Calculating altitude for', data.shape[0], 'rows')\n",
    "    # datetime 컬럼을 datetime 형식으로 변환하고 30분 더한 후 타임존 설정\n",
    "    data['datetime_mid_tzKST'] = (pd.to_datetime(data['datetime']) + pd.DateOffset(minutes=30)).dt.tz_localize('UTC').dt.tz_convert(KST)\n",
    "    data['altitude_raw'] = apply_with_progress(data, calculate_altitude)\n",
    "    data['altitude'] = data['altitude_raw'].apply(lambda x: max(-18.0, x))"
   ]
  },
  {
   "cell_type": "markdown",
   "metadata": {},
   "source": [
    "____"
   ]
  },
  {
   "cell_type": "markdown",
   "metadata": {},
   "source": [
    "### 04. 기상 변수 추가 제작\n",
    "\n",
    "#### Discomfort Index (불쾌지수)\n",
    "\n",
    "#### Heat Index (열지수)\n",
    "- 기온과 상대 습도를 결합하여 사람이 느끼는 체감 온도를 나타내는 지표\n",
    "- https://en.wikipedia.org/wiki/Heat_index\n",
    "\n",
    "#### Wind Chill (풍속냉각지수)\n",
    "- 바람이 불 때 사람이 느끼는 체감 온도를 나타내는 지표, 바람이 강할수록 체온이 더 빠르게 떨어지므로 실제 기온보다 더 춥게 느껴짐\n",
    "- https://en.wikipedia.org/wiki/Wind_chill\n",
    "\n",
    "#### Apparaent Temperature (체감 온도)\n",
    "- The Australian Apparent Temperature (AT) is a type of heat index that was used by the Australian Bureau of Meteorology\n",
    "- https://www.vcalc.com/wiki/australian-apparent-temperature"
   ]
  },
  {
   "cell_type": "code",
   "execution_count": 10,
   "metadata": {},
   "outputs": [],
   "source": [
    "def discomfort_index(temp, humid):\n",
    "    return 9/5 * temp - 0.55 * (1 - humid / 100) * (9/5 * temp - 26) + 32\n",
    "\n",
    "def calculate_heat_index(temp_celsius, humidity):\n",
    "    # 섭씨를 화씨로 변환\n",
    "    temp_fahrenheit = temp_celsius * 9 / 5 + 32   \n",
    "    T = temp_fahrenheit\n",
    "    RH = humidity\n",
    "    # 열지수 계산 공식 (화씨 기준)\n",
    "    HI = (-42.379 + 2.04901523 * T + 10.14333127 * RH - 0.22475541 * T * RH \n",
    "          - 6.83783e-3 * T**2 - 5.481717e-2 * RH**2 + 1.22874e-3 * T**2 * RH \n",
    "          + 8.5282e-4 * T * RH**2 - 1.99e-6 * T**2 * RH**2)\n",
    "    # 화씨를 섭씨로 변환\n",
    "    HI_celsius = (HI - 32) * 5 / 9\n",
    "    return HI_celsius\n",
    "\n",
    "def calculate_wind_chill(temp, wind):\n",
    "    v = wind\n",
    "    T_a = temp\n",
    "    WCI = (10 * np.sqrt(v) - v + 10.5) * (33 - T_a)\n",
    "    return WCI\n",
    "\n",
    "# 체감 온도 (섭씨, %, m/s) 계산 함수\n",
    "def calculate_apparent_temp(temp, humid, wind):\n",
    "    e = humid / 100.0 * 6.105 * np.exp(17.27 * temp / (237.7 + temp))\n",
    "    AT = temp + 0.33 * e - 0.70 * wind - 4.00\n",
    "    return AT\n",
    "\n",
    "# 변수 계산 및 추가\n",
    "\n",
    "for data in [train_data, test_data]:\n",
    "    data['dci'] = discomfort_index(data['temp'], data['humid'])\n",
    "    data['hi'] = calculate_heat_index(data['temp'], data['humid'])\n",
    "    data['wchi'] = calculate_wind_chill(data['temp'], data['wind'])\n",
    "    data['atemp'] = calculate_apparent_temp(data['temp'], data['humid'], data['wind'])"
   ]
  },
  {
   "cell_type": "code",
   "execution_count": 11,
   "metadata": {},
   "outputs": [],
   "source": [
    "corr_calculation_variables = ['temp', 'humid', 'wind', 'rain', 'tchi', 'dci', 'hi', 'wchi', 'atemp']\n",
    "\n",
    "corr = train_data[corr_calculation_variables].corr()"
   ]
  },
  {
   "cell_type": "markdown",
   "metadata": {},
   "source": [
    "#### 새로 만든 변수와 기존 기상 변수와의 상관계수"
   ]
  },
  {
   "cell_type": "code",
   "execution_count": 12,
   "metadata": {},
   "outputs": [
    {
     "data": {
      "image/png": "[encoded data removed]",
      "text/plain": [
       "<Figure size 700x700 with 2 Axes>"
      ]
     },
     "metadata": {},
     "output_type": "display_data"
    }
   ],
   "source": [
    "# corr heatmap\n",
    "plt.figure(figsize=(7, 7))\n",
    "plt.matshow(corr, fignum=1, cmap='coolwarm', vmin=-1, vmax=1)\n",
    "# 주석 추가\n",
    "for (i, j), val in np.ndenumerate(corr):\n",
    "    plt.text(j, i, f'{val:.2f}', ha='center', va='center', color='black')\n",
    "plt.colorbar()\n",
    "plt.xticks(range(len(corr.columns)), corr.columns, rotation=90)\n",
    "plt.yticks(range(len(corr.columns)), corr.columns)\n",
    "plt.show()"
   ]
  },
  {
   "cell_type": "markdown",
   "metadata": {},
   "source": [
    "___"
   ]
  },
  {
   "cell_type": "markdown",
   "metadata": {},
   "source": [
    "### 05. 격자별 지역 분류\n",
    "#### 격자 별로 위치를 확인하여 규모 별로 4개의 카테고리로 구분함"
   ]
  },
  {
   "cell_type": "code",
   "execution_count": 13,
   "metadata": {},
   "outputs": [],
   "source": [
    "_train_data = train_data[['num','year', 'x', 'y', 'units']].drop_duplicates().reset_index(drop=True)\n",
    "_test_data  = test_data[['num','year','x', 'y']].drop_duplicates().reset_index(drop=True)\n",
    "\n",
    "region_data = pd.concat([_train_data, _test_data], axis=0).reset_index(drop=True)"
   ]
  },
  {
   "cell_type": "code",
   "execution_count": 14,
   "metadata": {},
   "outputs": [],
   "source": [
    "loc_df = pd.read_csv(Path('./region_loc.csv'))\n",
    "\n",
    "# = loc_df[['격자 X', '격자 Y']]\n",
    "unique_XY = loc_df[['격자 X', '격자 Y']].drop_duplicates().reset_index(drop=True).values"
   ]
  },
  {
   "cell_type": "markdown",
   "metadata": {},
   "source": [
    "- 먼저 각 격자에 대하여, 동네예보 격자 정보를 사용하여 NUM으로부터 X,Y 격자 위치를 얻는다. \n",
    "\n",
    "- 격자 지역의 행정 정보를 기상청 기상자료개방포털로부터 얻고, 이 정보를 기반으로 각 격자별로 대응되는 1단계(도/특별시/광역시), 2단계(시/군/구) 행정지역 정보들을 모두 저장하였다. \n",
    "\n",
    "- 만약 특정 격자에 대한 정보가 존재하지 않으면 인접한, X,Y값이 하나 차이나는 격자의 정보를 모두 저장하였다.\n",
    "- https://data.kma.go.kr/community/board/selectBoardList.do?bbrdTypeNo=4&pgmNo=92"
   ]
  },
  {
   "cell_type": "code",
   "execution_count": 34,
   "metadata": {},
   "outputs": [
    {
     "name": "stdout",
     "output_type": "stream",
     "text": [
      "num 4816 with XY (48, 33) not found, replaced with XY [array([48, 32])]\n",
      "num 9609 with XY (73, 65) not found, replaced with XY [array([73, 66]), array([72, 65]), array([74, 65])]\n",
      "num 11562 with XY (89, 78) not found, replaced with XY [array([89, 79]), array([89, 77]), array([88, 78])]\n",
      "num 11718 with XY (96, 79) not found, replaced with XY [array([97, 79]), array([96, 78])]\n",
      "num 13497 with XY (87, 91) not found, replaced with XY [array([88, 91]), array([87, 90]), array([86, 91]), array([87, 92])]\n",
      "num 14258 with XY (103, 96) not found, replaced with XY [array([102,  96]), array([103,  95])]\n",
      "num 16001 with XY (58, 108) not found, replaced with XY [array([ 58, 109]), array([ 58, 107]), array([ 57, 108])]\n",
      "num 16011 with XY (68, 108) not found, replaced with XY [array([ 68, 107]), array([ 68, 109]), array([ 69, 108])]\n",
      "num 16452 with XY (62, 111) not found, replaced with XY [array([ 63, 111]), array([ 62, 110]), array([ 61, 111])]\n",
      "num 17800 with XY (69, 120) not found, replaced with XY [array([ 69, 121]), array([ 69, 119])]\n",
      "num 18090 with XY (61, 122) not found, replaced with XY [array([ 61, 121]), array([ 62, 122]), array([ 60, 122])]\n",
      "num 18239 with XY (61, 123) not found, replaced with XY [array([ 61, 124]), array([ 62, 123]), array([ 60, 123])]\n",
      "num 18988 with XY (65, 128) not found, replaced with XY [array([ 64, 128]), array([ 65, 129]), array([ 66, 128])]\n",
      "num 19279 with XY (58, 130) not found, replaced with XY [array([ 58, 129]), array([ 59, 130]), array([ 57, 130]), array([ 58, 131])]\n",
      "num 19725 with XY (57, 133) not found, replaced with XY [array([ 56, 133]), array([ 57, 132]), array([ 58, 133]), array([ 57, 134])]\n"
     ]
    },
    {
     "data": {
      "text/html": [
       "<div>\n",
       "<style scoped>\n",
       "    .dataframe tbody tr th:only-of-type {\n",
       "        vertical-align: middle;\n",
       "    }\n",
       "\n",
       "    .dataframe tbody tr th {\n",
       "        vertical-align: top;\n",
       "    }\n",
       "\n",
       "    .dataframe thead th {\n",
       "        text-align: right;\n",
       "    }\n",
       "</style>\n",
       "<table border=\"1\" class=\"dataframe\">\n",
       "  <thead>\n",
       "    <tr style=\"text-align: right;\">\n",
       "      <th></th>\n",
       "      <th>num</th>\n",
       "      <th>1단계</th>\n",
       "      <th>2단계</th>\n",
       "    </tr>\n",
       "  </thead>\n",
       "  <tbody>\n",
       "    <tr>\n",
       "      <th>0</th>\n",
       "      <td>4816</td>\n",
       "      <td>제주특별자치도</td>\n",
       "      <td>서귀포시</td>\n",
       "    </tr>\n",
       "    <tr>\n",
       "      <th>1</th>\n",
       "      <td>4821</td>\n",
       "      <td>제주특별자치도</td>\n",
       "      <td>서귀포시</td>\n",
       "    </tr>\n",
       "    <tr>\n",
       "      <th>3</th>\n",
       "      <td>5565</td>\n",
       "      <td>제주특별자치도</td>\n",
       "      <td>제주시</td>\n",
       "    </tr>\n",
       "    <tr>\n",
       "      <th>4</th>\n",
       "      <td>5566</td>\n",
       "      <td>제주특별자치도</td>\n",
       "      <td>제주시</td>\n",
       "    </tr>\n",
       "    <tr>\n",
       "      <th>5</th>\n",
       "      <td>5567</td>\n",
       "      <td>제주특별자치도</td>\n",
       "      <td>제주시</td>\n",
       "    </tr>\n",
       "  </tbody>\n",
       "</table>\n",
       "</div>"
      ],
      "text/plain": [
       "    num      1단계   2단계\n",
       "0  4816  제주특별자치도  서귀포시\n",
       "1  4821  제주특별자치도  서귀포시\n",
       "3  5565  제주특별자치도   제주시\n",
       "4  5566  제주특별자치도   제주시\n",
       "5  5567  제주특별자치도   제주시"
      ]
     },
     "execution_count": 34,
     "metadata": {},
     "output_type": "execute_result"
    }
   ],
   "source": [
    "grouped = region_data.groupby('num')\n",
    "\n",
    "region_df = []\n",
    "\n",
    "for num, group in grouped:\n",
    "    X, Y = group['x'].iloc[0], group['y'].iloc[0]\n",
    "    \n",
    "    if not [X,Y] in unique_XY.tolist():\n",
    "        #print(f\"num {num} is not found\")\n",
    "        # find nearest XY\n",
    "        min_dist = 999999\n",
    "        min_XY = None\n",
    "        for XY in unique_XY:\n",
    "            dist = np.linalg.norm([X - XY[0], Y - XY[1]])\n",
    "            if dist < min_dist:\n",
    "                min_dist = dist\n",
    "                min_XY = [XY]\n",
    "            elif dist == min_dist:\n",
    "                min_XY.append(XY)\n",
    "\n",
    "        print(f\"num {num} with XY {X,Y} not found, replaced with XY {min_XY}\")\n",
    "    else:\n",
    "        min_XY = [[X,Y]]\n",
    "    \n",
    "    # find for all XY in min_XY\n",
    "    total = []\n",
    "    for XY in min_XY:\n",
    "        searched = loc_df[(loc_df['격자 X'] == XY[0]) & (loc_df['격자 Y'] == XY[1])]\n",
    "        searched = searched[['1단계', '2단계']].reset_index(drop=True)\n",
    "        total.append(searched)\n",
    "\n",
    "    total_df = pd.concat(total).drop_duplicates().reset_index(drop=True)\n",
    "    total_df['num'] = num\n",
    "\n",
    "    region_df.append(total_df)\n",
    "\n",
    "region_df = pd.concat(region_df).reset_index(drop=True)\n",
    "# order columns\n",
    "region_df = region_df[['num', '1단계', '2단계']]\n",
    "\n",
    "# drop na row\n",
    "region_df = region_df.dropna()\n",
    "\n",
    "region_df.head()"
   ]
  },
  {
   "cell_type": "markdown",
   "metadata": {},
   "source": [
    "#### 각 격자에서 얻어진 모든 1단계-2단계 행정지역을 아래와 같이 구분하였다.\n",
    "\n",
    "- **구분 0**: 서울특별시 지역\n",
    "- **구분 1**: 광역시 혹은 세종특별자치시\n",
    "- **구분 2**: 특례시 (수원시, 창원시, 고양시, 용인시) , 인구 50만 이상의 도시 (50만 인구 특례를 받는 도시), 기타 \"시\" 단위 중 규모가 큰 도시들 선택\n",
    "- **구분 3**: 나머지 지역구분\n",
    "\n",
    "#### 위 구분을 기반으로 각 격자를 분류하였다. \n",
    "- 만약 격자가 여러 개의 구분을 가진다면 (하나의 격자가 여러개의 1단계/2단계 행정지역에 대응 가능) 빈도가 가장 높은 구분 중 숫자가 큰 구분을 선택핬다."
   ]
  },
  {
   "cell_type": "code",
   "execution_count": 35,
   "metadata": {},
   "outputs": [],
   "source": [
    "def make_category_by_stage(row):\n",
    "    stage1 = row['1단계']\n",
    "    stage2 = str(row['2단계'])\n",
    "    priority = -1\n",
    "    if stage1 == '서울특별시':\n",
    "        priority = 0\n",
    "    elif '광역시' in stage1 or '특별자치시' in stage1:\n",
    "        priority = 1\n",
    "    elif any(city in stage2 for city in ['수원시', '창원시', '고양시', '용인시']):\n",
    "        priority = 2\n",
    "    elif any(city in stage2 for city in [\"성남시\", \"화성시\", \"청주시\", \"부천시\", \"남양주시\", \"천안시\", \"전주시\", \"안산시\", \\\n",
    "                                                      \"평택시\", \"안양시\", \"김해시\", \"시흥시\", \"파주시\", \"김포시\", \"포항시\"]):\n",
    "        priority = 3\n",
    "    elif any(city in stage2 for city in [ \"파주시\", \"의정부시\", \"구미시\", \"광주시\", \"아산시\",\"원주시\", \"양산시\", \"진주시\", \"하남시\", \"춘천시\",\\\n",
    "                                         \"경주시\", \"강릉시\", \"안동시\"]):\n",
    "        priority = 4\n",
    "    else:\n",
    "        priority = 5\n",
    "\n",
    "    priority = {\n",
    "        0:0,\n",
    "        1:1,\n",
    "        2:2,\n",
    "        3:2,\n",
    "        4:2,\n",
    "        5:3\n",
    "    }[priority]\n",
    "    \n",
    "    return priority\n",
    "\n",
    "# 우선순위 열 추가\n",
    "region_df['priority'] = region_df.apply(make_category_by_stage, axis=1)"
   ]
  },
  {
   "cell_type": "code",
   "execution_count": 36,
   "metadata": {},
   "outputs": [
    {
     "data": {
      "text/html": [
       "<div>\n",
       "<style scoped>\n",
       "    .dataframe tbody tr th:only-of-type {\n",
       "        vertical-align: middle;\n",
       "    }\n",
       "\n",
       "    .dataframe tbody tr th {\n",
       "        vertical-align: top;\n",
       "    }\n",
       "\n",
       "    .dataframe thead th {\n",
       "        text-align: right;\n",
       "    }\n",
       "</style>\n",
       "<table border=\"1\" class=\"dataframe\">\n",
       "  <thead>\n",
       "    <tr style=\"text-align: right;\">\n",
       "      <th></th>\n",
       "      <th>num</th>\n",
       "      <th>1단계</th>\n",
       "      <th>2단계</th>\n",
       "      <th>priority</th>\n",
       "    </tr>\n",
       "  </thead>\n",
       "  <tbody>\n",
       "    <tr>\n",
       "      <th>0</th>\n",
       "      <td>4816</td>\n",
       "      <td>제주특별자치도</td>\n",
       "      <td>서귀포시</td>\n",
       "      <td>3</td>\n",
       "    </tr>\n",
       "    <tr>\n",
       "      <th>1</th>\n",
       "      <td>4821</td>\n",
       "      <td>제주특별자치도</td>\n",
       "      <td>서귀포시</td>\n",
       "      <td>3</td>\n",
       "    </tr>\n",
       "    <tr>\n",
       "      <th>3</th>\n",
       "      <td>5565</td>\n",
       "      <td>제주특별자치도</td>\n",
       "      <td>제주시</td>\n",
       "      <td>3</td>\n",
       "    </tr>\n",
       "    <tr>\n",
       "      <th>4</th>\n",
       "      <td>5566</td>\n",
       "      <td>제주특별자치도</td>\n",
       "      <td>제주시</td>\n",
       "      <td>3</td>\n",
       "    </tr>\n",
       "    <tr>\n",
       "      <th>5</th>\n",
       "      <td>5567</td>\n",
       "      <td>제주특별자치도</td>\n",
       "      <td>제주시</td>\n",
       "      <td>3</td>\n",
       "    </tr>\n",
       "    <tr>\n",
       "      <th>...</th>\n",
       "      <td>...</td>\n",
       "      <td>...</td>\n",
       "      <td>...</td>\n",
       "      <td>...</td>\n",
       "    </tr>\n",
       "    <tr>\n",
       "      <th>569</th>\n",
       "      <td>19740</td>\n",
       "      <td>강원특별자치도</td>\n",
       "      <td>춘천시</td>\n",
       "      <td>2</td>\n",
       "    </tr>\n",
       "    <tr>\n",
       "      <th>570</th>\n",
       "      <td>19741</td>\n",
       "      <td>강원특별자치도</td>\n",
       "      <td>춘천시</td>\n",
       "      <td>2</td>\n",
       "    </tr>\n",
       "    <tr>\n",
       "      <th>571</th>\n",
       "      <td>19878</td>\n",
       "      <td>경기도</td>\n",
       "      <td>동두천시</td>\n",
       "      <td>3</td>\n",
       "    </tr>\n",
       "    <tr>\n",
       "      <th>573</th>\n",
       "      <td>19890</td>\n",
       "      <td>강원특별자치도</td>\n",
       "      <td>춘천시</td>\n",
       "      <td>2</td>\n",
       "    </tr>\n",
       "    <tr>\n",
       "      <th>574</th>\n",
       "      <td>20947</td>\n",
       "      <td>강원특별자치도</td>\n",
       "      <td>속초시</td>\n",
       "      <td>3</td>\n",
       "    </tr>\n",
       "  </tbody>\n",
       "</table>\n",
       "<p>559 rows × 4 columns</p>\n",
       "</div>"
      ],
      "text/plain": [
       "       num      1단계   2단계  priority\n",
       "0     4816  제주특별자치도  서귀포시         3\n",
       "1     4821  제주특별자치도  서귀포시         3\n",
       "3     5565  제주특별자치도   제주시         3\n",
       "4     5566  제주특별자치도   제주시         3\n",
       "5     5567  제주특별자치도   제주시         3\n",
       "..     ...      ...   ...       ...\n",
       "569  19740  강원특별자치도   춘천시         2\n",
       "570  19741  강원특별자치도   춘천시         2\n",
       "571  19878      경기도  동두천시         3\n",
       "573  19890  강원특별자치도   춘천시         2\n",
       "574  20947  강원특별자치도   속초시         3\n",
       "\n",
       "[559 rows x 4 columns]"
      ]
     },
     "execution_count": 36,
     "metadata": {},
     "output_type": "execute_result"
    }
   ],
   "source": [
    "region_df"
   ]
  },
  {
   "cell_type": "code",
   "execution_count": 37,
   "metadata": {},
   "outputs": [
    {
     "data": {
      "text/plain": [
       "(array([ 23.,  86., 140.,  94.]),\n",
       " array([0.  , 0.75, 1.5 , 2.25, 3.  ]),\n",
       " <BarContainer object of 4 artists>)"
      ]
     },
     "execution_count": 37,
     "metadata": {},
     "output_type": "execute_result"
    },
    {
     "data": {
      "image/png": "[encoded data removed]",
      "text/plain": [
       "<Figure size 640x480 with 1 Axes>"
      ]
     },
     "metadata": {},
     "output_type": "display_data"
    }
   ],
   "source": [
    "num_to_priority = {}\n",
    "\n",
    "for num, group in region_df.groupby('num'):\n",
    "    priorities = group[['1단계', '2단계', 'priority']].drop_duplicates().reset_index(drop=True)\n",
    "    if len(priorities['priority'].unique()) > 1:\n",
    "        #print(f\"num {num} has multiple priorities {priorities}\")\n",
    "        # set priority to the most frequent one, and if there are multiple most frequent ones, set to the largest one\n",
    "        priority_counts = priorities['priority'].value_counts()\n",
    "        max_count = priority_counts.max()\n",
    "        most_frequent_priorities = priority_counts[priority_counts == max_count].index\n",
    "        num_priority = max(most_frequent_priorities)\n",
    "    else:\n",
    "        num_priority = priorities['priority'].iloc[0]\n",
    "    #print(f\"num {num} assigned priority {num_priority}\")\n",
    "\n",
    "    num_to_priority[num] = num_priority\n",
    "\n",
    "plt.hist(num_to_priority.values(), bins=4)"
   ]
  },
  {
   "cell_type": "code",
   "execution_count": 18,
   "metadata": {},
   "outputs": [
    {
     "data": {
      "text/html": [
       "<div>\n",
       "<style scoped>\n",
       "    .dataframe tbody tr th:only-of-type {\n",
       "        vertical-align: middle;\n",
       "    }\n",
       "\n",
       "    .dataframe tbody tr th {\n",
       "        vertical-align: top;\n",
       "    }\n",
       "\n",
       "    .dataframe thead th {\n",
       "        text-align: right;\n",
       "    }\n",
       "</style>\n",
       "<table border=\"1\" class=\"dataframe\">\n",
       "  <thead>\n",
       "    <tr style=\"text-align: right;\">\n",
       "      <th></th>\n",
       "      <th>num</th>\n",
       "      <th>year</th>\n",
       "      <th>x</th>\n",
       "      <th>y</th>\n",
       "      <th>units</th>\n",
       "      <th>priority</th>\n",
       "    </tr>\n",
       "  </thead>\n",
       "  <tbody>\n",
       "    <tr>\n",
       "      <th>0</th>\n",
       "      <td>4821</td>\n",
       "      <td>2021</td>\n",
       "      <td>53</td>\n",
       "      <td>33</td>\n",
       "      <td>11.0</td>\n",
       "      <td>3</td>\n",
       "    </tr>\n",
       "    <tr>\n",
       "      <th>1</th>\n",
       "      <td>5565</td>\n",
       "      <td>2020</td>\n",
       "      <td>52</td>\n",
       "      <td>38</td>\n",
       "      <td>58.0</td>\n",
       "      <td>3</td>\n",
       "    </tr>\n",
       "    <tr>\n",
       "      <th>2</th>\n",
       "      <td>5565</td>\n",
       "      <td>2021</td>\n",
       "      <td>52</td>\n",
       "      <td>38</td>\n",
       "      <td>49.0</td>\n",
       "      <td>3</td>\n",
       "    </tr>\n",
       "    <tr>\n",
       "      <th>3</th>\n",
       "      <td>5565</td>\n",
       "      <td>2022</td>\n",
       "      <td>52</td>\n",
       "      <td>38</td>\n",
       "      <td>32.0</td>\n",
       "      <td>3</td>\n",
       "    </tr>\n",
       "    <tr>\n",
       "      <th>4</th>\n",
       "      <td>5566</td>\n",
       "      <td>2020</td>\n",
       "      <td>53</td>\n",
       "      <td>38</td>\n",
       "      <td>19.0</td>\n",
       "      <td>3</td>\n",
       "    </tr>\n",
       "  </tbody>\n",
       "</table>\n",
       "</div>"
      ],
      "text/plain": [
       "    num  year   x   y  units  priority\n",
       "0  4821  2021  53  33   11.0         3\n",
       "1  5565  2020  52  38   58.0         3\n",
       "2  5565  2021  52  38   49.0         3\n",
       "3  5565  2022  52  38   32.0         3\n",
       "4  5566  2020  53  38   19.0         3"
      ]
     },
     "execution_count": 18,
     "metadata": {},
     "output_type": "execute_result"
    }
   ],
   "source": [
    "region_data['priority'] = region_data['num'].map(num_to_priority)\n",
    "\n",
    "region_data.head()"
   ]
  },
  {
   "cell_type": "code",
   "execution_count": 38,
   "metadata": {},
   "outputs": [],
   "source": [
    "region_data['lon'], region_data['lat'] = calculate_lon_lat_vectorized(region_data['x'].values, region_data['y'].values)"
   ]
  },
  {
   "cell_type": "code",
   "execution_count": 41,
   "metadata": {},
   "outputs": [],
   "source": [
    "year_grouped_region_data = region_data[['year','num','lon','lat','priority']].groupby('year')"
   ]
  },
  {
   "cell_type": "code",
   "execution_count": 43,
   "metadata": {},
   "outputs": [],
   "source": [
    "figure_region_path = Path(figure_path, 'region')\n",
    "figure_region_path.mkdir(parents=True, exist_ok=True)\n",
    "\n",
    "for year in [2020, 2021, 2022]:\n",
    "    year_data = year_grouped_region_data.get_group(year)\n",
    "    year_data.to_csv(Path(figure_region_path, f'region_data_{year}.csv'), index=False)"
   ]
  },
  {
   "cell_type": "markdown",
   "metadata": {},
   "source": [
    "____"
   ]
  },
  {
   "cell_type": "code",
   "execution_count": 19,
   "metadata": {},
   "outputs": [
    {
     "name": "stdout",
     "output_type": "stream",
     "text": [
      "priority 0\n",
      "priority 1\n",
      "priority 2\n",
      "priority 3\n"
     ]
    },
    {
     "data": {
      "text/plain": [
       "<matplotlib.legend.Legend at 0x7f5592447050>"
      ]
     },
     "execution_count": 19,
     "metadata": {},
     "output_type": "execute_result"
    },
    {
     "data": {
      "image/png": "[encoded data removed]",
      "text/plain": [
       "<Figure size 640x480 with 1 Axes>"
      ]
     },
     "metadata": {},
     "output_type": "display_data"
    }
   ],
   "source": [
    "# units statsitis per priority\n",
    "grouped = region_data.groupby('priority')\n",
    "\n",
    "for priority, group in grouped:\n",
    "    print(f\"priority {priority}\")\n",
    "    plt.hist(group['units'], bins=30, alpha=0.5, label=f\"priority {priority}\", density=True)\n",
    "\n",
    "plt.legend()"
   ]
  },
  {
   "cell_type": "markdown",
   "metadata": {},
   "source": [
    "___"
   ]
  },
  {
   "cell_type": "markdown",
   "metadata": {},
   "source": [
    "### 06. Test Data의 주택수 예측\n",
    "\n",
    "각 격자에서 2020, 2021, 2022 년도 주택수를 log 변환한 후 선형 보간으로 2023 년도 주택수의 log값을 예측하였다.\n",
    "\n",
    "이렇게 한 이유는 주택수를 직접 관찰해봤는데 주택수 자체에 대한 (log를 안씌운 상태에서) 선형 변환의 결과가 너무 변화가 크기 때문이었음"
   ]
  },
  {
   "cell_type": "code",
   "execution_count": 20,
   "metadata": {},
   "outputs": [],
   "source": [
    "# priority 별로 2년의 데이터가 없는 경우 평균 unit수 계산\n",
    "grouped = region_data[region_data['year'] != 2023].groupby('priority')\n",
    "\n",
    "unique_units_by_priority = defaultdict(list)\n",
    "for priority, group in grouped:\n",
    "    for num, group in group.groupby('num'):\n",
    "        if len(group['year'].unique()) < 2:\n",
    "            unique_units_by_priority[priority].extend(group['units'].unique())\n",
    "\n",
    "unique_units_by_priority = {priority: np.round(np.mean(units)).astype(int) for priority, units in unique_units_by_priority.items()}"
   ]
  },
  {
   "cell_type": "code",
   "execution_count": 21,
   "metadata": {},
   "outputs": [
    {
     "data": {
      "text/plain": [
       "{1: 13, 2: 13, 3: 11}"
      ]
     },
     "execution_count": 21,
     "metadata": {},
     "output_type": "execute_result"
    }
   ],
   "source": [
    "unique_units_by_priority"
   ]
  },
  {
   "cell_type": "code",
   "execution_count": 22,
   "metadata": {},
   "outputs": [],
   "source": [
    "from scipy import interpolate\n",
    "\n",
    "grouped = region_data.groupby('num')\n",
    "\n",
    "num_to_units_2023 = {}\n",
    "for num, group in grouped:\n",
    "    unique_years = group['year'].unique()\n",
    "    num_priority = num_to_priority[num]\n",
    "    unit_arr= np.full(4, np.nan)\n",
    "    for year in unique_years:\n",
    "        if year == 2023: continue\n",
    "        unit_arr[year-2020] = group[group['year'] == year]['units'].mean()\n",
    "\n",
    "    unit_arr = np.log(unit_arr)\n",
    "\n",
    "    if np.all(np.isnan(unit_arr)):\n",
    "        #print(f\"num {num} has no data\")\n",
    "        unit_arr[3] = unique_units_by_priority[num_priority]\n",
    "\n",
    "    else:\n",
    "        non_nan_idx = np.where(~np.isnan(unit_arr))[0]\n",
    "        non_nan_val = unit_arr[non_nan_idx]\n",
    "        # linear interpolation, and get value for year 2023\n",
    "        if len(non_nan_val) == 1:\n",
    "            unit_arr[3] = np.exp(non_nan_val[0])\n",
    "        else:\n",
    "            f = interpolate.interp1d(non_nan_idx, non_nan_val, kind='linear', fill_value='extrapolate')\n",
    "            unit_arr[3] =  np.exp(f(3))\n",
    "\n",
    "    num_to_units_2023[num] = np.clip(np.ceil(unit_arr[-1]).astype(int), a_min=10, a_max=None)"
   ]
  },
  {
   "cell_type": "code",
   "execution_count": 23,
   "metadata": {},
   "outputs": [],
   "source": [
    "test_data['units'] = test_data['num'].map(num_to_units_2023)"
   ]
  },
  {
   "cell_type": "code",
   "execution_count": 24,
   "metadata": {},
   "outputs": [
    {
     "data": {
      "text/plain": [
       "<matplotlib.legend.Legend at 0x7f55925b7200>"
      ]
     },
     "execution_count": 24,
     "metadata": {},
     "output_type": "execute_result"
    },
    {
     "data": {
      "image/png": "[encoded data removed]",
      "text/plain": [
       "<Figure size 640x480 with 1 Axes>"
      ]
     },
     "metadata": {},
     "output_type": "display_data"
    }
   ],
   "source": [
    "# histogram of units for train and test data\n",
    "plt.hist(train_data[train_data['year'] == 2020]['units'], bins=10, alpha=0.5, label='train, 2020', density=True)\n",
    "plt.hist(train_data[train_data['year'] == 2021]['units'], bins=10, alpha=0.5, label='train, 2021', density=True)\n",
    "plt.hist(train_data[train_data['year'] == 2022]['units'], bins=10, alpha=0.5, label='train, 2022', density=True)\n",
    "plt.hist(test_data['units'], bins=10, alpha=0.5, label='test', density=True)\n",
    "\n",
    "plt.legend()"
   ]
  },
  {
   "cell_type": "markdown",
   "metadata": {},
   "source": [
    "____"
   ]
  },
  {
   "cell_type": "code",
   "execution_count": 25,
   "metadata": {},
   "outputs": [],
   "source": [
    "# using num to priority dict, make priority column\n",
    "train_data['district'] = train_data['num'].map(num_to_priority)\n",
    "test_data['district'] = test_data['num'].map(num_to_priority)"
   ]
  },
  {
   "cell_type": "code",
   "execution_count": 26,
   "metadata": {},
   "outputs": [],
   "source": [
    "test_data['units'] = test_data['num'].map(num_to_units_2023)"
   ]
  },
  {
   "cell_type": "markdown",
   "metadata": {},
   "source": [
    "____"
   ]
  },
  {
   "cell_type": "markdown",
   "metadata": {},
   "source": [
    "### 저장"
   ]
  },
  {
   "cell_type": "code",
   "execution_count": 27,
   "metadata": {},
   "outputs": [
    {
     "data": {
      "text/plain": [
       "Index(['is_dummy', 'num', 'year', 'datetime', 'temp', 'humid', 'wind', 'rain',\n",
       "       'tchi', 'units', 'sum_qctr', 'sum_load', 'n_mean_load', 'elec', 'date',\n",
       "       'avg_load', 'holiday', 'x', 'y', 'lon', 'lat', 'datetime_mid_tzKST',\n",
       "       'altitude_raw', 'altitude', 'dci', 'hi', 'wchi', 'atemp', 'district'],\n",
       "      dtype='object')"
      ]
     },
     "execution_count": 27,
     "metadata": {},
     "output_type": "execute_result"
    }
   ],
   "source": [
    "train_data.columns"
   ]
  },
  {
   "cell_type": "code",
   "execution_count": 28,
   "metadata": {},
   "outputs": [
    {
     "data": {
      "text/plain": [
       "Index(['is_dummy', 'num', 'year', 'datetime', 'temp', 'humid', 'wind', 'rain',\n",
       "       'tchi', 'date', 'holiday', 'x', 'y', 'lon', 'lat', 'datetime_mid_tzKST',\n",
       "       'altitude_raw', 'altitude', 'dci', 'hi', 'wchi', 'atemp', 'units',\n",
       "       'district'],\n",
       "      dtype='object')"
      ]
     },
     "execution_count": 28,
     "metadata": {},
     "output_type": "execute_result"
    }
   ],
   "source": [
    "test_data.columns"
   ]
  },
  {
   "cell_type": "code",
   "execution_count": 29,
   "metadata": {},
   "outputs": [
    {
     "ename": "AssertionError",
     "evalue": "",
     "output_type": "error",
     "traceback": [
      "\u001b[0;31m---------------------------------------------------------------------------\u001b[0m",
      "\u001b[0;31mAssertionError\u001b[0m                            Traceback (most recent call last)",
      "Cell \u001b[0;32mIn[29], line 1\u001b[0m\n\u001b[0;32m----> 1\u001b[0m \u001b[38;5;28;01massert\u001b[39;00m \u001b[38;5;28;01mFalse\u001b[39;00m\n",
      "\u001b[0;31mAssertionError\u001b[0m: "
     ]
    }
   ],
   "source": [
    "assert False"
   ]
  },
  {
   "cell_type": "code",
   "execution_count": null,
   "metadata": {},
   "outputs": [],
   "source": [
    "test_save_columns = ['is_dummy', 'num', 'lat', 'lon', 'district', 'units', 'year', 'datetime', 'holiday',\\\n",
    "                     'altitude', 'temp', 'humid', 'wind', 'rain', 'tchi', 'dci', 'hi', 'wchi', 'atemp']\n",
    "\n",
    "train_save_columns = test_save_columns + ['sum_qctr', 'sum_load', 'avg_load', 'n_mean_load', 'elec']\n",
    "\n",
    "train_data = train_data[train_save_columns]\n",
    "test_data = test_data[test_save_columns]\n",
    "\n",
    "\n",
    "if SAVE:\n",
    "    train_data.to_csv(Path(asset_path, '01_electric_train_features.csv'), index=False)\n",
    "    test_data.to_csv(Path(asset_path, '01_electric_test_features.csv'), index=False)"
   ]
  }
 ],
 "metadata": {
  "kernelspec": {
   "display_name": "elec",
   "language": "python",
   "name": "python3"
  },
  "language_info": {
   "codemirror_mode": {
    "name": "ipython",
    "version": 3
   },
   "file_extension": ".py",
   "mimetype": "text/x-python",
   "name": "python",
   "nbconvert_exporter": "python",
   "pygments_lexer": "ipython3",
   "version": "3.12.4"
  }
 },
 "nbformat": 4,
 "nbformat_minor": 2
}
